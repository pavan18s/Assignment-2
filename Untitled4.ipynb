{
 "cells": [
  {
   "cell_type": "markdown",
   "id": "d78f5a36",
   "metadata": {},
   "source": [
    "1.What are the two values of the Boolean data type? How do you write them?"
   ]
  },
  {
   "cell_type": "markdown",
   "id": "e2dbed0a",
   "metadata": {},
   "source": [
    "ANS-TRUE,FALSE"
   ]
  },
  {
   "cell_type": "markdown",
   "id": "c6f5bcb8",
   "metadata": {},
   "source": [
    "2. What are the three different types of Boolean operators?\n"
   ]
  },
  {
   "cell_type": "markdown",
   "id": "b3a550d3",
   "metadata": {},
   "source": [
    "ANS-OR,AND,NOT"
   ]
  },
  {
   "cell_type": "markdown",
   "id": "7f6264d5",
   "metadata": {},
   "source": [
    "3. Make a list of each Boolean operator's truth tables (i.e. every possible combination of Boolean values for the operator and what it evaluate ).\n"
   ]
  },
  {
   "cell_type": "markdown",
   "id": "cfbeaefb",
   "metadata": {},
   "source": [
    "ANS- 0 AND 1=FALSE  0 OR 1=TRUE   1 NOT = FALSE\n",
    "     0 AND 0=FALSE  0 OR O=FALSE   0 NOT = TRUE\n",
    "     1 AND 1=TRUE   1 OR 1 =TRUE"
   ]
  },
  {
   "cell_type": "markdown",
   "id": "9f057db7",
   "metadata": {},
   "source": [
    "4. What are the values of the following expressions?"
   ]
  },
  {
   "cell_type": "markdown",
   "id": "f1eca455",
   "metadata": {},
   "source": [
    "(5 > 4) and (3 == 5)=FALSE\n",
    "not (5 > 4)=FALSE\n",
    "(5 > 4) or (3 == 5)=TRUE\n",
    "not ((5 > 4) or (3 == 5))=FALSE\n",
    "(True and True) and (True == False)=FALSE\n",
    "(not False) or (not True)=TRUE"
   ]
  },
  {
   "cell_type": "markdown",
   "id": "630d885a",
   "metadata": {},
   "source": [
    "5. What are the six comparison operators?"
   ]
  },
  {
   "cell_type": "markdown",
   "id": "2c0b54dc",
   "metadata": {},
   "source": [
    ">,<,==,!=,>=,<="
   ]
  },
  {
   "cell_type": "markdown",
   "id": "1d17528a",
   "metadata": {},
   "source": [
    "6. How do you tell the difference between the equal to and assignment operators?Describe a condition and when you would use one."
   ]
  },
  {
   "cell_type": "markdown",
   "id": "e1086335",
   "metadata": {},
   "source": [
    "Equal to operator is comparison operator which compare two values.This operator is used when we have to compare two value\n",
    "Assigment operator assign values to variable.This operator is used when we have to assign value"
   ]
  },
  {
   "cell_type": "raw",
   "id": "b6216d9a",
   "metadata": {},
   "source": [
    "7. Identify the three blocks in this code:\n",
    "spam = 0\n",
    "if spam == 10:\n",
    "     print('eggs')\n",
    "\n",
    "if spam > 5:\n",
    "      print('bacon')\n",
    "\n",
    "else:\n",
    "   print('ham')\n",
    "   print('spam')\n",
    "   print('spam')\n",
    "\n"
   ]
  },
  {
   "cell_type": "markdown",
   "id": "6e84bedd",
   "metadata": {},
   "source": [
    "8. Write code that prints Hello if 1 is stored in spam, prints Howdy if 2 is stored in spam, and prints Greetings! if anything else is stored in spam."
   ]
  },
  {
   "cell_type": "code",
   "execution_count": null,
   "id": "24bfd1d4",
   "metadata": {},
   "outputs": [],
   "source": [
    "spam=int(input())\n",
    "if spam==1:\n",
    "    print(\"hello\")\n",
    "elif spam==2:\n",
    "    print(\"Howdy\")\n",
    "else:\n",
    "    print(\"Greetings\")"
   ]
  },
  {
   "cell_type": "markdown",
   "id": "8ccfd600",
   "metadata": {},
   "source": [
    "9.If your programme is stuck in an endless loop, what keys you’ll press?"
   ]
  },
  {
   "cell_type": "markdown",
   "id": "36811e83",
   "metadata": {},
   "source": [
    "ctrl+c"
   ]
  },
  {
   "cell_type": "markdown",
   "id": "7df83e20",
   "metadata": {},
   "source": [
    "10. How can you tell the difference between break and continue?\n"
   ]
  },
  {
   "cell_type": "markdown",
   "id": "bc75d251",
   "metadata": {},
   "source": [
    "break keyword change flow of controll loops and program get outside of that loops\n",
    "continue keyword continue flow and program get ones again to the loop to execute"
   ]
  },
  {
   "cell_type": "markdown",
   "id": "9c890508",
   "metadata": {},
   "source": [
    "11. In a for loop, what is the difference between range(10), range(0, 10), and range(0, 10, 1)?\n"
   ]
  },
  {
   "cell_type": "markdown",
   "id": "fe686b88",
   "metadata": {},
   "source": [
    "NO difference"
   ]
  },
  {
   "cell_type": "markdown",
   "id": "c4ec581f",
   "metadata": {},
   "source": [
    "12. Write a short program that prints the numbers 1 to 10 using a for loop. Then write an equivalent program that prints the numbers 1 to 10 using a while loop."
   ]
  },
  {
   "cell_type": "code",
   "execution_count": null,
   "id": "501d443f",
   "metadata": {},
   "outputs": [],
   "source": [
    "for i in range(1,11):\n",
    "    print(i)\n",
    "X=0    \n",
    "while X<11:\n",
    "    x+=1\n",
    "    print(X)"
   ]
  },
  {
   "cell_type": "markdown",
   "id": "e53dadcd",
   "metadata": {},
   "source": [
    "13. If you had a function named bacon() inside a module named spam, how would you call it after importing spam?\n"
   ]
  },
  {
   "cell_type": "markdown",
   "id": "25800c70",
   "metadata": {},
   "source": [
    "By calling function bacon()"
   ]
  }
 ],
 "metadata": {
  "kernelspec": {
   "display_name": "Python 3 (ipykernel)",
   "language": "python",
   "name": "python3"
  },
  "language_info": {
   "codemirror_mode": {
    "name": "ipython",
    "version": 3
   },
   "file_extension": ".py",
   "mimetype": "text/x-python",
   "name": "python",
   "nbconvert_exporter": "python",
   "pygments_lexer": "ipython3",
   "version": "3.9.7"
  }
 },
 "nbformat": 4,
 "nbformat_minor": 5
}
